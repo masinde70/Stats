{
 "cells": [
  {
   "cell_type": "code",
   "execution_count": 1,
   "id": "9214ea73-17f5-4c1a-bed9-4509c71c21de",
   "metadata": {},
   "outputs": [],
   "source": [
    "import numpy as np\n",
    "from sklearn.datasets import make_blobs\n",
    "from sklearn.model_selection import train_test_split\n",
    "from sklearn.metrics import accuracy_score\n",
    "from sklearn.neighbors import KNeighborsClassifier\n",
    "from sklearn.svm import SVC\n",
    "from sklearn.ensemble import GradientBoostingClassifier\n",
    "import matplotlib.pyplot as plt \n"
   ]
  },
  {
   "cell_type": "code",
   "execution_count": 3,
   "id": "226341e0-3643-4fef-aa47-88ef2902027a",
   "metadata": {},
   "outputs": [],
   "source": [
    "## Creating syntheic data using make_blobs function we imported from the sklearn.datasets\n",
    "\n",
    "n_samples = 10000\n",
    "centers = [(-2, 2), (0,0), (2,2)]\n",
    "x, y = make_blobs(n_samples=n_samples, centers=centers, shuffle=False, random_state=0)"
   ]
  },
  {
   "cell_type": "code",
   "execution_count": null,
   "id": "5a23b23b-fb8e-42be-af72-bfb3f0668dd7",
   "metadata": {},
   "outputs": [],
   "source": []
  }
 ],
 "metadata": {
  "kernelspec": {
   "display_name": "Python 3 (ipykernel)",
   "language": "python",
   "name": "python3"
  },
  "language_info": {
   "codemirror_mode": {
    "name": "ipython",
    "version": 3
   },
   "file_extension": ".py",
   "mimetype": "text/x-python",
   "name": "python",
   "nbconvert_exporter": "python",
   "pygments_lexer": "ipython3",
   "version": "3.10.8"
  }
 },
 "nbformat": 4,
 "nbformat_minor": 5
}
