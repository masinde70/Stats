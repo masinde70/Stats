{
 "cells": [
  {
   "cell_type": "code",
   "execution_count": 1,
   "id": "b7cec869-cf5b-4a4d-8101-6815984c6a98",
   "metadata": {},
   "outputs": [],
   "source": [
    "import pandas as pd\n",
    "import numpy as np\n",
    "\n",
    "from matplotlib import pyplot as plt\n",
    "from scipy.stats import linregress "
   ]
  },
  {
   "cell_type": "code",
   "execution_count": 2,
   "id": "a37e577b-bdc2-46a5-a980-65002cbab78b",
   "metadata": {},
   "outputs": [],
   "source": [
    "\n",
    "my_arr = np.arange(1_000_000)\n"
   ]
  },
  {
   "cell_type": "code",
   "execution_count": 3,
   "id": "c4f6b401-9576-4f37-bbf7-cf0083953bf0",
   "metadata": {},
   "outputs": [],
   "source": [
    "my_list = list(range(1_000_000))\n"
   ]
  },
  {
   "cell_type": "code",
   "execution_count": 4,
   "id": "ec3739a2-ed3c-4bc8-a4c5-9d4396b8ae02",
   "metadata": {},
   "outputs": [
    {
     "name": "stdout",
     "output_type": "stream",
     "text": [
      "700 µs ± 26 µs per loop (mean ± std. dev. of 7 runs, 1,000 loops each)\n"
     ]
    }
   ],
   "source": [
    "%timeit my_arr2 = my_arr * 2"
   ]
  },
  {
   "cell_type": "code",
   "execution_count": 5,
   "id": "a9904eaa-c70e-4cc7-82ed-b77ae01d5f83",
   "metadata": {},
   "outputs": [
    {
     "name": "stdout",
     "output_type": "stream",
     "text": [
      "27.4 ms ± 1.12 ms per loop (mean ± std. dev. of 7 runs, 10 loops each)\n"
     ]
    }
   ],
   "source": [
    "%timeit my_list2 = [x * 2 for x in my_list]"
   ]
  },
  {
   "cell_type": "code",
   "execution_count": 6,
   "id": "c58265f5-2537-4d4b-8548-3c2dd62a4936",
   "metadata": {},
   "outputs": [],
   "source": [
    "rand_array = np.random.rand(2, 3)"
   ]
  },
  {
   "cell_type": "code",
   "execution_count": 7,
   "id": "f576bd39-d587-4cfb-ae2a-701bdcded267",
   "metadata": {},
   "outputs": [
    {
     "data": {
      "text/plain": [
       "array([[0.6585195 , 0.65354961, 0.85015836],\n",
       "       [0.13434509, 0.19438543, 0.78485353]])"
      ]
     },
     "execution_count": 7,
     "metadata": {},
     "output_type": "execute_result"
    }
   ],
   "source": [
    "rand_array"
   ]
  },
  {
   "cell_type": "code",
   "execution_count": 8,
   "id": "71f08e61-1087-4780-a472-5033875090bd",
   "metadata": {},
   "outputs": [
    {
     "data": {
      "text/plain": [
       "array([[1, 2, 3],\n",
       "       [4, 5, 6],\n",
       "       [7, 8, 9]])"
      ]
     },
     "execution_count": 8,
     "metadata": {},
     "output_type": "execute_result"
    }
   ],
   "source": [
    "b = np.array([[1,2,3], [4,5,6], [7,8,9]])\n",
    "b"
   ]
  },
  {
   "cell_type": "code",
   "execution_count": 9,
   "id": "3d36715f-9976-4eed-a0ee-93ae2a577034",
   "metadata": {},
   "outputs": [
    {
     "data": {
      "text/plain": [
       "array([[[0.12107957, 0.69991933, 0.84163354, 0.58838205],\n",
       "        [0.13082753, 0.25946093, 0.07128255, 0.09222803],\n",
       "        [0.24793002, 0.91892033, 0.68870432, 0.7220213 ]],\n",
       "\n",
       "       [[0.22195696, 0.07475156, 0.70930497, 0.34725914],\n",
       "        [0.81365285, 0.22305002, 0.75706114, 0.53927159],\n",
       "        [0.9975453 , 0.35929319, 0.26494649, 0.82442265]]])"
      ]
     },
     "execution_count": 9,
     "metadata": {},
     "output_type": "execute_result"
    }
   ],
   "source": [
    "a = np.random.rand(2, 3, 4)\n",
    "a"
   ]
  },
  {
   "cell_type": "code",
   "execution_count": 10,
   "id": "6a105db6-1779-45d9-b394-aecbe142d3e2",
   "metadata": {},
   "outputs": [
    {
     "data": {
      "text/plain": [
       "array([[0.07475156, 0.70930497, 0.34725914],\n",
       "       [0.22305002, 0.75706114, 0.53927159]])"
      ]
     },
     "execution_count": 10,
     "metadata": {},
     "output_type": "execute_result"
    }
   ],
   "source": [
    "a[1, 0: 2, 1:]"
   ]
  },
  {
   "cell_type": "code",
   "execution_count": 11,
   "id": "60762bf9-da11-4bf2-9ac6-a7ae6161393b",
   "metadata": {},
   "outputs": [
    {
     "data": {
      "text/plain": [
       "3"
      ]
     },
     "execution_count": 11,
     "metadata": {},
     "output_type": "execute_result"
    }
   ],
   "source": [
    "a.ndim"
   ]
  },
  {
   "cell_type": "code",
   "execution_count": 12,
   "id": "3e8eb976-d781-418e-9415-80a96123d721",
   "metadata": {},
   "outputs": [
    {
     "data": {
      "text/plain": [
       "dtype('float64')"
      ]
     },
     "execution_count": 12,
     "metadata": {},
     "output_type": "execute_result"
    }
   ],
   "source": [
    "a.dtype"
   ]
  },
  {
   "cell_type": "code",
   "execution_count": 13,
   "id": "bd4aac89-f140-4c52-942c-0be5a4f79cd1",
   "metadata": {},
   "outputs": [],
   "source": [
    "from timeit import Timer"
   ]
  },
  {
   "cell_type": "code",
   "execution_count": 14,
   "id": "2d57c0a7-b54f-40f9-b615-0f5ac30caac8",
   "metadata": {},
   "outputs": [],
   "source": [
    "my_list = list(range(10**6))\n",
    "my_array = np.array(my_list)"
   ]
  },
  {
   "cell_type": "code",
   "execution_count": 15,
   "id": "e63e55dd-c01f-4450-a8f0-8a600c264494",
   "metadata": {},
   "outputs": [],
   "source": [
    "def for_add():\n",
    "    return [item + 1 for item in my_list]\n",
    "\n",
    "def vec_add():\n",
    "    return my_array + 1"
   ]
  },
  {
   "cell_type": "code",
   "execution_count": 16,
   "id": "2ffec1aa-a0e4-4dfe-a6df-71d5f3e90850",
   "metadata": {},
   "outputs": [
    {
     "name": "stdout",
     "output_type": "stream",
     "text": [
      "For-loop addition:\n",
      "0.2492127499972412\n",
      "Vectorized addition:\n",
      "0.004762833999848226\n"
     ]
    }
   ],
   "source": [
    "print('For-loop addition:')\n",
    "print(min(Timer(for_add).repeat(10, 10)))\n",
    "print('Vectorized addition:')\n",
    "print(min(Timer(vec_add).repeat(10, 10)))\n"
   ]
  },
  {
   "cell_type": "code",
   "execution_count": 17,
   "id": "90586dab-60b5-4d1c-aa08-6d184278e94d",
   "metadata": {},
   "outputs": [
    {
     "name": "stdout",
     "output_type": "stream",
     "text": [
      "For-loop multiplication:\n",
      "0.2624412080003822\n",
      "Vectorized multiplication:\n",
      "0.006063459000870353\n"
     ]
    }
   ],
   "source": [
    "def for_mul():\n",
    "    return [item * 2 for item in my_list]\n",
    "def vec_mul():\n",
    "    return my_array * 2\n",
    "print('For-loop multiplication:')\n",
    "print(min(Timer(for_mul).repeat(10, 10)))\n",
    "print('Vectorized multiplication:')\n",
    "print(min(Timer(vec_mul).repeat(10, 10)))"
   ]
  },
  {
   "cell_type": "code",
   "execution_count": 18,
   "id": "f7588d29-c72e-4324-99ee-a6a6b31d8e76",
   "metadata": {},
   "outputs": [
    {
     "name": "stdout",
     "output_type": "stream",
     "text": [
      "For-loop square root:\n",
      "0.6102179589979642\n",
      "Vectorized square root:\n",
      "0.005471417000080692\n"
     ]
    }
   ],
   "source": [
    "import math\n",
    "def for_sqrt():\n",
    "    return [math.sqrt(item) for item in my_list]\n",
    "def vec_sqrt():\n",
    "    return np.sqrt(my_array)\n",
    "print('For-loop square root:')\n",
    "print(min(Timer(for_sqrt).repeat(10, 10)))\n",
    "print('Vectorized square root:')\n",
    "print(min(Timer(vec_sqrt).repeat(10, 10)))"
   ]
  },
  {
   "cell_type": "code",
   "execution_count": 19,
   "id": "fd077e05-49f2-4614-872a-7c13aff8d649",
   "metadata": {},
   "outputs": [],
   "source": [
    "sample = np.random.normal()"
   ]
  },
  {
   "cell_type": "code",
   "execution_count": 20,
   "id": "0f2b3c99-70d1-4a21-a2a6-bda8e27592d1",
   "metadata": {},
   "outputs": [
    {
     "data": {
      "text/plain": [
       "-0.4035199406324069"
      ]
     },
     "execution_count": 20,
     "metadata": {},
     "output_type": "execute_result"
    }
   ],
   "source": [
    "sample"
   ]
  },
  {
   "cell_type": "code",
   "execution_count": 21,
   "id": "35b6e27d-b956-4b4d-a74b-eab73a8c5e78",
   "metadata": {},
   "outputs": [
    {
     "data": {
      "text/plain": [
       "array([[ 99.20104182, 100.42716335, 103.20682812],\n",
       "       [101.59265435, 109.71334889, 116.56911586]])"
      ]
     },
     "execution_count": 21,
     "metadata": {},
     "output_type": "execute_result"
    }
   ],
   "source": [
    "sample = np.random.normal(loc=100, scale=10, size=(2, 3))\n",
    "sample"
   ]
  },
  {
   "cell_type": "code",
   "execution_count": 22,
   "id": "16a59085-248a-403a-b342-e79744a26dee",
   "metadata": {},
   "outputs": [
    {
     "data": {
      "text/plain": [
       "array([[ 88, 102,  95],\n",
       "       [104, 100,  92]])"
      ]
     },
     "execution_count": 22,
     "metadata": {},
     "output_type": "execute_result"
    }
   ],
   "source": [
    "samples = np.random.poisson(lam=100, size=(2, 3))\n",
    "samples"
   ]
  },
  {
   "cell_type": "code",
   "execution_count": 23,
   "id": "8be2eed6-103a-4916-87a9-d51793e00d79",
   "metadata": {},
   "outputs": [
    {
     "data": {
      "text/html": [
       "<div>\n",
       "<style scoped>\n",
       "    .dataframe tbody tr th:only-of-type {\n",
       "        vertical-align: middle;\n",
       "    }\n",
       "\n",
       "    .dataframe tbody tr th {\n",
       "        vertical-align: top;\n",
       "    }\n",
       "\n",
       "    .dataframe thead th {\n",
       "        text-align: right;\n",
       "    }\n",
       "</style>\n",
       "<table border=\"1\" class=\"dataframe\">\n",
       "  <thead>\n",
       "    <tr style=\"text-align: right;\">\n",
       "      <th></th>\n",
       "      <th>coll1</th>\n",
       "      <th>col2</th>\n",
       "      <th>col3</th>\n",
       "      <th>col4</th>\n",
       "    </tr>\n",
       "  </thead>\n",
       "  <tbody>\n",
       "    <tr>\n",
       "      <th>0</th>\n",
       "      <td>2</td>\n",
       "      <td>3</td>\n",
       "      <td>4</td>\n",
       "      <td>7</td>\n",
       "    </tr>\n",
       "    <tr>\n",
       "      <th>1</th>\n",
       "      <td>1</td>\n",
       "      <td>4</td>\n",
       "      <td>5</td>\n",
       "      <td>3</td>\n",
       "    </tr>\n",
       "    <tr>\n",
       "      <th>2</th>\n",
       "      <td>4</td>\n",
       "      <td>2</td>\n",
       "      <td>6</td>\n",
       "      <td>4</td>\n",
       "    </tr>\n",
       "  </tbody>\n",
       "</table>\n",
       "</div>"
      ],
      "text/plain": [
       "   coll1  col2  col3  col4\n",
       "0      2     3     4     7\n",
       "1      1     4     5     3\n",
       "2      4     2     6     4"
      ]
     },
     "execution_count": 23,
     "metadata": {},
     "output_type": "execute_result"
    }
   ],
   "source": [
    "my_dict = {'coll1': [2, 1, 4], 'col2': np.array([3, 4, 2]), 'col3': [4, 5,6], 'col4': np.array([7,3, 4]),}\n",
    "\n",
    "df = pd.DataFrame(my_dict)\n",
    "df"
   ]
  },
  {
   "cell_type": "code",
   "execution_count": 24,
   "id": "3c62b726-4184-40d4-b8a7-4967af8b9e31",
   "metadata": {},
   "outputs": [
    {
     "data": {
      "text/plain": [
       "coll1    4\n",
       "col2     2\n",
       "col3     6\n",
       "col4     4\n",
       "Name: 2, dtype: int64"
      ]
     },
     "execution_count": 24,
     "metadata": {},
     "output_type": "execute_result"
    }
   ],
   "source": [
    "df.loc[2]"
   ]
  },
  {
   "cell_type": "code",
   "execution_count": 25,
   "id": "956ecc36-b447-44f2-9952-2771c1193058",
   "metadata": {},
   "outputs": [
    {
     "data": {
      "text/plain": [
       "col2    2\n",
       "col3    6\n",
       "Name: 2, dtype: int64"
      ]
     },
     "execution_count": 25,
     "metadata": {},
     "output_type": "execute_result"
    }
   ],
   "source": [
    "df.loc[2, ['col2', 'col3']]"
   ]
  },
  {
   "cell_type": "code",
   "execution_count": 26,
   "id": "ef0fc89e-85b7-4963-a8b4-ae481903c355",
   "metadata": {},
   "outputs": [],
   "source": [
    "import pandas as pd"
   ]
  },
  {
   "cell_type": "code",
   "execution_count": 27,
   "id": "90d29db4-cb33-4229-ae6b-7032342d8c57",
   "metadata": {},
   "outputs": [],
   "source": [
    "my_dict = {'col1': [1, 2], 'col2': np.array([3, 4]),'col3': [5, 6]}"
   ]
  },
  {
   "cell_type": "code",
   "execution_count": 28,
   "id": "478c1a33-fe38-436f-9c6f-8b52334cb20d",
   "metadata": {},
   "outputs": [],
   "source": [
    "df = pd.DataFrame(my_dict)"
   ]
  },
  {
   "cell_type": "code",
   "execution_count": 29,
   "id": "085642f3-a191-4758-9618-5928a5880d05",
   "metadata": {},
   "outputs": [
    {
     "data": {
      "text/html": [
       "<div>\n",
       "<style scoped>\n",
       "    .dataframe tbody tr th:only-of-type {\n",
       "        vertical-align: middle;\n",
       "    }\n",
       "\n",
       "    .dataframe tbody tr th {\n",
       "        vertical-align: top;\n",
       "    }\n",
       "\n",
       "    .dataframe thead th {\n",
       "        text-align: right;\n",
       "    }\n",
       "</style>\n",
       "<table border=\"1\" class=\"dataframe\">\n",
       "  <thead>\n",
       "    <tr style=\"text-align: right;\">\n",
       "      <th></th>\n",
       "      <th>col1</th>\n",
       "      <th>col2</th>\n",
       "      <th>col3</th>\n",
       "    </tr>\n",
       "  </thead>\n",
       "  <tbody>\n",
       "    <tr>\n",
       "      <th>0</th>\n",
       "      <td>1</td>\n",
       "      <td>3</td>\n",
       "      <td>5</td>\n",
       "    </tr>\n",
       "    <tr>\n",
       "      <th>1</th>\n",
       "      <td>2</td>\n",
       "      <td>4</td>\n",
       "      <td>6</td>\n",
       "    </tr>\n",
       "  </tbody>\n",
       "</table>\n",
       "</div>"
      ],
      "text/plain": [
       "   col1  col2  col3\n",
       "0     1     3     5\n",
       "1     2     4     6"
      ]
     },
     "execution_count": 29,
     "metadata": {},
     "output_type": "execute_result"
    }
   ],
   "source": [
    "df"
   ]
  },
  {
   "cell_type": "code",
   "execution_count": 31,
   "id": "33246caa-59d3-41f7-8e1a-ecc8b35b9155",
   "metadata": {},
   "outputs": [
    {
     "data": {
      "text/html": [
       "<div>\n",
       "<style scoped>\n",
       "    .dataframe tbody tr th:only-of-type {\n",
       "        vertical-align: middle;\n",
       "    }\n",
       "\n",
       "    .dataframe tbody tr th {\n",
       "        vertical-align: top;\n",
       "    }\n",
       "\n",
       "    .dataframe thead th {\n",
       "        text-align: right;\n",
       "    }\n",
       "</style>\n",
       "<table border=\"1\" class=\"dataframe\">\n",
       "  <thead>\n",
       "    <tr style=\"text-align: right;\">\n",
       "      <th></th>\n",
       "      <th>col1</th>\n",
       "      <th>col2</th>\n",
       "      <th>col3</th>\n",
       "    </tr>\n",
       "  </thead>\n",
       "  <tbody>\n",
       "    <tr>\n",
       "      <th>0</th>\n",
       "      <td>1</td>\n",
       "      <td>3</td>\n",
       "      <td>5</td>\n",
       "    </tr>\n",
       "    <tr>\n",
       "      <th>1</th>\n",
       "      <td>2</td>\n",
       "      <td>4</td>\n",
       "      <td>6</td>\n",
       "    </tr>\n",
       "  </tbody>\n",
       "</table>\n",
       "</div>"
      ],
      "text/plain": [
       "   col1  col2  col3\n",
       "0     1     3     5\n",
       "1     2     4     6"
      ]
     },
     "execution_count": 31,
     "metadata": {},
     "output_type": "execute_result"
    }
   ],
   "source": [
    "my_array = np.array([[1,3,5],[2,4,6]])\n",
    "alt_df = pd.DataFrame(my_array, columns=['col1', 'col2', 'col3'])\n",
    "alt_df"
   ]
  },
  {
   "cell_type": "code",
   "execution_count": 32,
   "id": "d8c88a6b-36fd-4c14-a01e-eeca3ae49bed",
   "metadata": {},
   "outputs": [
    {
     "data": {
      "text/plain": [
       "col1    1\n",
       "col2    3\n",
       "col3    5\n",
       "Name: 0, dtype: int64"
      ]
     },
     "execution_count": 32,
     "metadata": {},
     "output_type": "execute_result"
    }
   ],
   "source": [
    "df.loc[0]"
   ]
  },
  {
   "cell_type": "code",
   "execution_count": 33,
   "id": "d9c931f2-20cd-4ab2-ba9d-1033c268fb1d",
   "metadata": {},
   "outputs": [
    {
     "data": {
      "text/plain": [
       "col1    1\n",
       "col2    3\n",
       "col3    5\n",
       "Name: 0, dtype: int64"
      ]
     },
     "execution_count": 33,
     "metadata": {},
     "output_type": "execute_result"
    }
   ],
   "source": [
    "\n",
    "df.iloc[0]"
   ]
  },
  {
   "cell_type": "code",
   "execution_count": 36,
   "id": "e1fb810d-f83b-4b13-8c46-16384f3f379b",
   "metadata": {},
   "outputs": [
    {
     "data": {
      "text/plain": [
       "col2    3\n",
       "col3    5\n",
       "Name: 0, dtype: int64"
      ]
     },
     "execution_count": 36,
     "metadata": {},
     "output_type": "execute_result"
    }
   ],
   "source": [
    "df.loc[0, ['col2', 'col3']]"
   ]
  },
  {
   "cell_type": "code",
   "execution_count": 37,
   "id": "945e9fd8-bca5-48c8-b44f-51c688155864",
   "metadata": {},
   "outputs": [],
   "source": [
    "df['col4'] = [10,10]"
   ]
  },
  {
   "cell_type": "code",
   "execution_count": 39,
   "id": "80195bda-f974-45c5-bf7f-30b39f00e953",
   "metadata": {},
   "outputs": [],
   "source": [
    "df.loc[3] = [1,2,3,4]"
   ]
  },
  {
   "cell_type": "code",
   "execution_count": 40,
   "id": "5c460fbb-b7e4-440a-988e-4d0929014f16",
   "metadata": {},
   "outputs": [
    {
     "data": {
      "text/html": [
       "<div>\n",
       "<style scoped>\n",
       "    .dataframe tbody tr th:only-of-type {\n",
       "        vertical-align: middle;\n",
       "    }\n",
       "\n",
       "    .dataframe tbody tr th {\n",
       "        vertical-align: top;\n",
       "    }\n",
       "\n",
       "    .dataframe thead th {\n",
       "        text-align: right;\n",
       "    }\n",
       "</style>\n",
       "<table border=\"1\" class=\"dataframe\">\n",
       "  <thead>\n",
       "    <tr style=\"text-align: right;\">\n",
       "      <th></th>\n",
       "      <th>col1</th>\n",
       "      <th>col2</th>\n",
       "      <th>col3</th>\n",
       "      <th>col4</th>\n",
       "    </tr>\n",
       "  </thead>\n",
       "  <tbody>\n",
       "    <tr>\n",
       "      <th>0</th>\n",
       "      <td>1</td>\n",
       "      <td>3</td>\n",
       "      <td>5</td>\n",
       "      <td>10</td>\n",
       "    </tr>\n",
       "    <tr>\n",
       "      <th>1</th>\n",
       "      <td>2</td>\n",
       "      <td>4</td>\n",
       "      <td>6</td>\n",
       "      <td>10</td>\n",
       "    </tr>\n",
       "    <tr>\n",
       "      <th>3</th>\n",
       "      <td>1</td>\n",
       "      <td>2</td>\n",
       "      <td>3</td>\n",
       "      <td>4</td>\n",
       "    </tr>\n",
       "  </tbody>\n",
       "</table>\n",
       "</div>"
      ],
      "text/plain": [
       "   col1  col2  col3  col4\n",
       "0     1     3     5    10\n",
       "1     2     4     6    10\n",
       "3     1     2     3     4"
      ]
     },
     "execution_count": 40,
     "metadata": {},
     "output_type": "execute_result"
    }
   ],
   "source": [
    "df"
   ]
  },
  {
   "cell_type": "code",
   "execution_count": null,
   "id": "b777d264-c254-4fe5-b831-6c15c375d72d",
   "metadata": {},
   "outputs": [],
   "source": []
  }
 ],
 "metadata": {
  "kernelspec": {
   "display_name": "Python 3 (ipykernel)",
   "language": "python",
   "name": "python3"
  },
  "language_info": {
   "codemirror_mode": {
    "name": "ipython",
    "version": 3
   },
   "file_extension": ".py",
   "mimetype": "text/x-python",
   "name": "python",
   "nbconvert_exporter": "python",
   "pygments_lexer": "ipython3",
   "version": "3.10.6"
  }
 },
 "nbformat": 4,
 "nbformat_minor": 5
}
