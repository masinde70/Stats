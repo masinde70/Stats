{
 "cells": [
  {
   "cell_type": "code",
   "execution_count": null,
   "id": "b7cec869-cf5b-4a4d-8101-6815984c6a98",
   "metadata": {},
   "outputs": [],
   "source": [
    "import pandas as pd\n",
    "import numpy as np\n",
    "\n",
    "from matplotlib import pyplot as plt\n",
    "from scipy.stats import linregress "
   ]
  },
  {
   "cell_type": "code",
   "execution_count": null,
   "id": "a37e577b-bdc2-46a5-a980-65002cbab78b",
   "metadata": {},
   "outputs": [],
   "source": [
    "\n",
    "my_arr = np.arange(1_000_000)\n"
   ]
  },
  {
   "cell_type": "code",
   "execution_count": null,
   "id": "c4f6b401-9576-4f37-bbf7-cf0083953bf0",
   "metadata": {},
   "outputs": [],
   "source": [
    "my_list = list(range(1_000_000))\n"
   ]
  },
  {
   "cell_type": "code",
   "execution_count": null,
   "id": "ec3739a2-ed3c-4bc8-a4c5-9d4396b8ae02",
   "metadata": {},
   "outputs": [],
   "source": [
    "%timeit my_arr2 = my_arr * 2"
   ]
  },
  {
   "cell_type": "code",
   "execution_count": null,
   "id": "a9904eaa-c70e-4cc7-82ed-b77ae01d5f83",
   "metadata": {},
   "outputs": [],
   "source": [
    "%timeit my_list2 = [x * 2 for x in my_list]"
   ]
  },
  {
   "cell_type": "code",
   "execution_count": null,
   "id": "c58265f5-2537-4d4b-8548-3c2dd62a4936",
   "metadata": {},
   "outputs": [],
   "source": [
    "rand_array = np.random.rand(2, 3)"
   ]
  },
  {
   "cell_type": "code",
   "execution_count": null,
   "id": "f576bd39-d587-4cfb-ae2a-701bdcded267",
   "metadata": {},
   "outputs": [],
   "source": [
    "rand_array"
   ]
  },
  {
   "cell_type": "code",
   "execution_count": null,
   "id": "71f08e61-1087-4780-a472-5033875090bd",
   "metadata": {},
   "outputs": [],
   "source": [
    "b = np.array([[1,2,3], [4,5,6], [7,8,9]])\n",
    "b"
   ]
  },
  {
   "cell_type": "code",
   "execution_count": null,
   "id": "3d36715f-9976-4eed-a0ee-93ae2a577034",
   "metadata": {},
   "outputs": [],
   "source": [
    "a = np.random.rand(2, 3, 4)\n",
    "a"
   ]
  },
  {
   "cell_type": "code",
   "execution_count": null,
   "id": "6a105db6-1779-45d9-b394-aecbe142d3e2",
   "metadata": {},
   "outputs": [],
   "source": [
    "a[1, 0: 2, 1:]"
   ]
  },
  {
   "cell_type": "code",
   "execution_count": null,
   "id": "60762bf9-da11-4bf2-9ac6-a7ae6161393b",
   "metadata": {},
   "outputs": [],
   "source": [
    "a.ndim"
   ]
  },
  {
   "cell_type": "code",
   "execution_count": null,
   "id": "3e8eb976-d781-418e-9415-80a96123d721",
   "metadata": {},
   "outputs": [],
   "source": [
    "a.dtype"
   ]
  },
  {
   "cell_type": "code",
   "execution_count": null,
   "id": "bd4aac89-f140-4c52-942c-0be5a4f79cd1",
   "metadata": {},
   "outputs": [],
   "source": [
    "from timeit import Timer"
   ]
  },
  {
   "cell_type": "code",
   "execution_count": null,
   "id": "2d57c0a7-b54f-40f9-b615-0f5ac30caac8",
   "metadata": {},
   "outputs": [],
   "source": [
    "my_list = list(range(10**6))\n",
    "my_array = np.array(my_list)"
   ]
  },
  {
   "cell_type": "code",
   "execution_count": null,
   "id": "e63e55dd-c01f-4450-a8f0-8a600c264494",
   "metadata": {},
   "outputs": [],
   "source": [
    "def for_add():\n",
    "    return [item + 1 for item in my_list]\n",
    "\n",
    "def vec_add():\n",
    "    return my_array + 1"
   ]
  },
  {
   "cell_type": "code",
   "execution_count": null,
   "id": "2ffec1aa-a0e4-4dfe-a6df-71d5f3e90850",
   "metadata": {},
   "outputs": [],
   "source": [
    "print('For-loop addition:')\n",
    "print(min(Timer(for_add).repeat(10, 10)))\n",
    "print('Vectorized addition:')\n",
    "print(min(Timer(vec_add).repeat(10, 10)))\n"
   ]
  },
  {
   "cell_type": "code",
   "execution_count": null,
   "id": "90586dab-60b5-4d1c-aa08-6d184278e94d",
   "metadata": {},
   "outputs": [],
   "source": [
    "def for_mul():\n",
    "    return [item * 2 for item in my_list]\n",
    "def vec_mul():\n",
    "    return my_array * 2\n",
    "print('For-loop multiplication:')\n",
    "print(min(Timer(for_mul).repeat(10, 10)))\n",
    "print('Vectorized multiplication:')\n",
    "print(min(Timer(vec_mul).repeat(10, 10)))"
   ]
  },
  {
   "cell_type": "code",
   "execution_count": null,
   "id": "f7588d29-c72e-4324-99ee-a6a6b31d8e76",
   "metadata": {},
   "outputs": [],
   "source": [
    "import math\n",
    "def for_sqrt():\n",
    "    return [math.sqrt(item) for item in my_list]\n",
    "def vec_sqrt():\n",
    "    return np.sqrt(my_array)\n",
    "print('For-loop square root:')\n",
    "print(min(Timer(for_sqrt).repeat(10, 10)))\n",
    "print('Vectorized square root:')\n",
    "print(min(Timer(vec_sqrt).repeat(10, 10)))"
   ]
  },
  {
   "cell_type": "code",
   "execution_count": null,
   "id": "fd077e05-49f2-4614-872a-7c13aff8d649",
   "metadata": {},
   "outputs": [],
   "source": [
    "sample = np.random.normal()"
   ]
  },
  {
   "cell_type": "code",
   "execution_count": null,
   "id": "0f2b3c99-70d1-4a21-a2a6-bda8e27592d1",
   "metadata": {},
   "outputs": [],
   "source": [
    "sample"
   ]
  },
  {
   "cell_type": "code",
   "execution_count": null,
   "id": "35b6e27d-b956-4b4d-a74b-eab73a8c5e78",
   "metadata": {},
   "outputs": [],
   "source": [
    "sample = np.random.normal(loc=100, scale=10, size=(2, 3))\n",
    "sample"
   ]
  },
  {
   "cell_type": "code",
   "execution_count": null,
   "id": "16a59085-248a-403a-b342-e79744a26dee",
   "metadata": {},
   "outputs": [],
   "source": [
    "samples = np.random.poisson(lam=100, size=(2, 3))\n",
    "samples"
   ]
  },
  {
   "cell_type": "code",
   "execution_count": null,
   "id": "8be2eed6-103a-4916-87a9-d51793e00d79",
   "metadata": {},
   "outputs": [],
   "source": [
    "my_dict = {'coll1': [2, 1, 4], 'col2': np.array([3, 4, 2]), 'col3': [4, 5,6], 'col4': np.array([7,3, 4]),}\n",
    "\n",
    "df = pd.DataFrame(my_dict)\n",
    "df"
   ]
  },
  {
   "cell_type": "code",
   "execution_count": null,
   "id": "3c62b726-4184-40d4-b8a7-4967af8b9e31",
   "metadata": {},
   "outputs": [],
   "source": [
    "df.loc[2]"
   ]
  },
  {
   "cell_type": "code",
   "execution_count": null,
   "id": "956ecc36-b447-44f2-9952-2771c1193058",
   "metadata": {},
   "outputs": [],
   "source": [
    "df.loc[2, ['col2', 'col3']]"
   ]
  },
  {
   "cell_type": "code",
   "execution_count": null,
   "id": "ef0fc89e-85b7-4963-a8b4-ae481903c355",
   "metadata": {},
   "outputs": [],
   "source": [
    "import pandas as pd"
   ]
  },
  {
   "cell_type": "code",
   "execution_count": null,
   "id": "90d29db4-cb33-4229-ae6b-7032342d8c57",
   "metadata": {},
   "outputs": [],
   "source": [
    "my_dict = {'col1': [1, 2], 'col2': np.array([3, 4]),'col3': [5, 6]}"
   ]
  },
  {
   "cell_type": "code",
   "execution_count": null,
   "id": "478c1a33-fe38-436f-9c6f-8b52334cb20d",
   "metadata": {},
   "outputs": [],
   "source": []
  }
 ],
 "metadata": {
  "kernelspec": {
   "display_name": "Python 3 (ipykernel)",
   "language": "python",
   "name": "python3"
  },
  "language_info": {
   "codemirror_mode": {
    "name": "ipython",
    "version": 3
   },
   "file_extension": ".py",
   "mimetype": "text/x-python",
   "name": "python",
   "nbconvert_exporter": "python",
   "pygments_lexer": "ipython3",
   "version": "3.10.6"
  }
 },
 "nbformat": 4,
 "nbformat_minor": 5
}
