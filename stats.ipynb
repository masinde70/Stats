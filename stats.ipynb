{
 "cells": [
  {
   "cell_type": "code",
   "execution_count": 1,
   "id": "b7cec869-cf5b-4a4d-8101-6815984c6a98",
   "metadata": {},
   "outputs": [],
   "source": [
    "import pandas as pd\n",
    "import numpy as np\n",
    "\n",
    "from matplotlib import pyplot as plt\n",
    "from scipy.stats import linregress "
   ]
  },
  {
   "cell_type": "code",
   "execution_count": 2,
   "id": "a37e577b-bdc2-46a5-a980-65002cbab78b",
   "metadata": {},
   "outputs": [],
   "source": [
    "\n",
    "my_arr = np.arange(1_000_000)\n"
   ]
  },
  {
   "cell_type": "code",
   "execution_count": 3,
   "id": "c4f6b401-9576-4f37-bbf7-cf0083953bf0",
   "metadata": {},
   "outputs": [],
   "source": [
    "my_list = list(range(1_000_000))\n"
   ]
  },
  {
   "cell_type": "code",
   "execution_count": 4,
   "id": "ec3739a2-ed3c-4bc8-a4c5-9d4396b8ae02",
   "metadata": {},
   "outputs": [
    {
     "name": "stdout",
     "output_type": "stream",
     "text": [
      "699 µs ± 3.65 µs per loop (mean ± std. dev. of 7 runs, 1,000 loops each)\n"
     ]
    }
   ],
   "source": [
    "%timeit my_arr2 = my_arr * 2"
   ]
  },
  {
   "cell_type": "code",
   "execution_count": 6,
   "id": "a9904eaa-c70e-4cc7-82ed-b77ae01d5f83",
   "metadata": {},
   "outputs": [
    {
     "name": "stdout",
     "output_type": "stream",
     "text": [
      "26.5 ms ± 297 µs per loop (mean ± std. dev. of 7 runs, 10 loops each)\n"
     ]
    }
   ],
   "source": [
    "%timeit my_list2 = [x * 2 for x in my_list]"
   ]
  },
  {
   "cell_type": "code",
   "execution_count": 7,
   "id": "c58265f5-2537-4d4b-8548-3c2dd62a4936",
   "metadata": {},
   "outputs": [],
   "source": [
    "rand_array = np.random.rand(2, 3)"
   ]
  },
  {
   "cell_type": "code",
   "execution_count": 8,
   "id": "f576bd39-d587-4cfb-ae2a-701bdcded267",
   "metadata": {},
   "outputs": [
    {
     "data": {
      "text/plain": [
       "array([[0.19628299, 0.56972204, 0.32814351],\n",
       "       [0.41689847, 0.9870636 , 0.74485751]])"
      ]
     },
     "execution_count": 8,
     "metadata": {},
     "output_type": "execute_result"
    }
   ],
   "source": [
    "rand_array"
   ]
  },
  {
   "cell_type": "code",
   "execution_count": 10,
   "id": "71f08e61-1087-4780-a472-5033875090bd",
   "metadata": {},
   "outputs": [
    {
     "data": {
      "text/plain": [
       "array([[1, 2, 3],\n",
       "       [4, 5, 6],\n",
       "       [7, 8, 9]])"
      ]
     },
     "execution_count": 10,
     "metadata": {},
     "output_type": "execute_result"
    }
   ],
   "source": [
    "b = np.array([[1,2,3], [4,5,6], [7,8,9]])\n",
    "b"
   ]
  },
  {
   "cell_type": "code",
   "execution_count": 20,
   "id": "3d36715f-9976-4eed-a0ee-93ae2a577034",
   "metadata": {},
   "outputs": [
    {
     "data": {
      "text/plain": [
       "array([[[0.44731408, 0.09391701, 0.08124115, 0.13064186],\n",
       "        [0.79888265, 0.54970731, 0.59351101, 0.88308235],\n",
       "        [0.52663893, 0.07849054, 0.45931085, 0.72176698]],\n",
       "\n",
       "       [[0.03609782, 0.41198826, 0.04482076, 0.47408953],\n",
       "        [0.70886973, 0.31853931, 0.52029919, 0.80773506],\n",
       "        [0.9416732 , 0.20049839, 0.16715513, 0.2784289 ]]])"
      ]
     },
     "execution_count": 20,
     "metadata": {},
     "output_type": "execute_result"
    }
   ],
   "source": [
    "a = np.random.rand(2, 3, 4)\n",
    "a"
   ]
  },
  {
   "cell_type": "code",
   "execution_count": 21,
   "id": "6a105db6-1779-45d9-b394-aecbe142d3e2",
   "metadata": {},
   "outputs": [
    {
     "data": {
      "text/plain": [
       "array([[0.41198826, 0.04482076, 0.47408953],\n",
       "       [0.31853931, 0.52029919, 0.80773506]])"
      ]
     },
     "execution_count": 21,
     "metadata": {},
     "output_type": "execute_result"
    }
   ],
   "source": [
    "a[1, 0: 2, 1:]"
   ]
  },
  {
   "cell_type": "code",
   "execution_count": 22,
   "id": "60762bf9-da11-4bf2-9ac6-a7ae6161393b",
   "metadata": {},
   "outputs": [
    {
     "data": {
      "text/plain": [
       "3"
      ]
     },
     "execution_count": 22,
     "metadata": {},
     "output_type": "execute_result"
    }
   ],
   "source": [
    "a.ndim"
   ]
  },
  {
   "cell_type": "code",
   "execution_count": 23,
   "id": "3e8eb976-d781-418e-9415-80a96123d721",
   "metadata": {},
   "outputs": [
    {
     "data": {
      "text/plain": [
       "dtype('float64')"
      ]
     },
     "execution_count": 23,
     "metadata": {},
     "output_type": "execute_result"
    }
   ],
   "source": [
    "a.dtype"
   ]
  },
  {
   "cell_type": "code",
   "execution_count": 24,
   "id": "bd4aac89-f140-4c52-942c-0be5a4f79cd1",
   "metadata": {},
   "outputs": [],
   "source": [
    "from timeit import Timer"
   ]
  },
  {
   "cell_type": "code",
   "execution_count": 25,
   "id": "2d57c0a7-b54f-40f9-b615-0f5ac30caac8",
   "metadata": {},
   "outputs": [],
   "source": [
    "my_list = list(range(10**6))\n",
    "my_array = np.array(my_list)"
   ]
  },
  {
   "cell_type": "code",
   "execution_count": 26,
   "id": "e63e55dd-c01f-4450-a8f0-8a600c264494",
   "metadata": {},
   "outputs": [],
   "source": [
    "def for_add():\n",
    "    return [item + 1 for item in my_list]\n",
    "\n",
    "def vec_add():\n",
    "    return my_array + 1"
   ]
  },
  {
   "cell_type": "code",
   "execution_count": 27,
   "id": "2ffec1aa-a0e4-4dfe-a6df-71d5f3e90850",
   "metadata": {},
   "outputs": [
    {
     "name": "stdout",
     "output_type": "stream",
     "text": [
      "For-loop addition:\n",
      "0.24130170800162887\n",
      "Vectorized addition:\n",
      "0.004507166999246692\n"
     ]
    }
   ],
   "source": [
    "print('For-loop addition:')\n",
    "print(min(Timer(for_add).repeat(10, 10)))\n",
    "print('Vectorized addition:')\n",
    "print(min(Timer(vec_add).repeat(10, 10)))\n"
   ]
  },
  {
   "cell_type": "code",
   "execution_count": 30,
   "id": "90586dab-60b5-4d1c-aa08-6d184278e94d",
   "metadata": {},
   "outputs": [
    {
     "name": "stdout",
     "output_type": "stream",
     "text": [
      "For-loop multiplication:\n",
      "0.2535759999991569\n",
      "Vectorized multiplication:\n",
      "0.0038080000012996607\n"
     ]
    }
   ],
   "source": [
    "def for_mul():\n",
    "    return [item * 2 for item in my_list]\n",
    "def vec_mul():\n",
    "    return my_array * 2\n",
    "print('For-loop multiplication:')\n",
    "print(min(Timer(for_mul).repeat(10, 10)))\n",
    "print('Vectorized multiplication:')\n",
    "print(min(Timer(vec_mul).repeat(10, 10)))"
   ]
  },
  {
   "cell_type": "code",
   "execution_count": 33,
   "id": "f7588d29-c72e-4324-99ee-a6a6b31d8e76",
   "metadata": {},
   "outputs": [
    {
     "name": "stdout",
     "output_type": "stream",
     "text": [
      "For-loop square root:\n",
      "0.5964930829995865\n",
      "Vectorized square root:\n",
      "0.007913667001048452\n"
     ]
    }
   ],
   "source": [
    "import math\n",
    "def for_sqrt():\n",
    "    return [math.sqrt(item) for item in my_list]\n",
    "def vec_sqrt():\n",
    "    return np.sqrt(my_array)\n",
    "print('For-loop square root:')\n",
    "print(min(Timer(for_sqrt).repeat(10, 10)))\n",
    "print('Vectorized square root:')\n",
    "print(min(Timer(vec_sqrt).repeat(10, 10)))"
   ]
  },
  {
   "cell_type": "code",
   "execution_count": 34,
   "id": "fd077e05-49f2-4614-872a-7c13aff8d649",
   "metadata": {},
   "outputs": [],
   "source": [
    "sample = np.random.normal()"
   ]
  },
  {
   "cell_type": "code",
   "execution_count": 35,
   "id": "0f2b3c99-70d1-4a21-a2a6-bda8e27592d1",
   "metadata": {},
   "outputs": [
    {
     "data": {
      "text/plain": [
       "-1.8529191602981443"
      ]
     },
     "execution_count": 35,
     "metadata": {},
     "output_type": "execute_result"
    }
   ],
   "source": [
    "sample"
   ]
  },
  {
   "cell_type": "code",
   "execution_count": 38,
   "id": "35b6e27d-b956-4b4d-a74b-eab73a8c5e78",
   "metadata": {},
   "outputs": [
    {
     "data": {
      "text/plain": [
       "array([[116.05088864, 107.12617494, 108.03223714],\n",
       "       [106.09458801, 101.57443291, 104.07068436]])"
      ]
     },
     "execution_count": 38,
     "metadata": {},
     "output_type": "execute_result"
    }
   ],
   "source": [
    "sample = np.random.normal(loc=100, scale=10, size=(2, 3))\n",
    "sample"
   ]
  },
  {
   "cell_type": "code",
   "execution_count": 41,
   "id": "16a59085-248a-403a-b342-e79744a26dee",
   "metadata": {},
   "outputs": [
    {
     "data": {
      "text/plain": [
       "array([[ 91, 103, 107],\n",
       "       [ 98,  93,  92]])"
      ]
     },
     "execution_count": 41,
     "metadata": {},
     "output_type": "execute_result"
    }
   ],
   "source": [
    "samples = np.random.poisson(lam=100, size=(2, 3))\n",
    "samples"
   ]
  },
  {
   "cell_type": "code",
   "execution_count": 49,
   "id": "8be2eed6-103a-4916-87a9-d51793e00d79",
   "metadata": {},
   "outputs": [
    {
     "data": {
      "text/html": [
       "<div>\n",
       "<style scoped>\n",
       "    .dataframe tbody tr th:only-of-type {\n",
       "        vertical-align: middle;\n",
       "    }\n",
       "\n",
       "    .dataframe tbody tr th {\n",
       "        vertical-align: top;\n",
       "    }\n",
       "\n",
       "    .dataframe thead th {\n",
       "        text-align: right;\n",
       "    }\n",
       "</style>\n",
       "<table border=\"1\" class=\"dataframe\">\n",
       "  <thead>\n",
       "    <tr style=\"text-align: right;\">\n",
       "      <th></th>\n",
       "      <th>coll1</th>\n",
       "      <th>col2</th>\n",
       "      <th>col3</th>\n",
       "      <th>col4</th>\n",
       "    </tr>\n",
       "  </thead>\n",
       "  <tbody>\n",
       "    <tr>\n",
       "      <th>0</th>\n",
       "      <td>2</td>\n",
       "      <td>3</td>\n",
       "      <td>4</td>\n",
       "      <td>7</td>\n",
       "    </tr>\n",
       "    <tr>\n",
       "      <th>1</th>\n",
       "      <td>1</td>\n",
       "      <td>4</td>\n",
       "      <td>5</td>\n",
       "      <td>3</td>\n",
       "    </tr>\n",
       "    <tr>\n",
       "      <th>2</th>\n",
       "      <td>4</td>\n",
       "      <td>2</td>\n",
       "      <td>6</td>\n",
       "      <td>4</td>\n",
       "    </tr>\n",
       "  </tbody>\n",
       "</table>\n",
       "</div>"
      ],
      "text/plain": [
       "   coll1  col2  col3  col4\n",
       "0      2     3     4     7\n",
       "1      1     4     5     3\n",
       "2      4     2     6     4"
      ]
     },
     "execution_count": 49,
     "metadata": {},
     "output_type": "execute_result"
    }
   ],
   "source": [
    "my_dict = {'coll1': [2, 1, 4], 'col2': np.array([3, 4, 2]), 'col3': [4, 5,6], 'col4': np.array([7,3, 4]),}\n",
    "\n",
    "df = pd.DataFrame(my_dict)\n",
    "df"
   ]
  },
  {
   "cell_type": "code",
   "execution_count": 50,
   "id": "3c62b726-4184-40d4-b8a7-4967af8b9e31",
   "metadata": {},
   "outputs": [
    {
     "data": {
      "text/plain": [
       "coll1    4\n",
       "col2     2\n",
       "col3     6\n",
       "col4     4\n",
       "Name: 2, dtype: int64"
      ]
     },
     "execution_count": 50,
     "metadata": {},
     "output_type": "execute_result"
    }
   ],
   "source": [
    "df.loc[2]"
   ]
  },
  {
   "cell_type": "code",
   "execution_count": 52,
   "id": "956ecc36-b447-44f2-9952-2771c1193058",
   "metadata": {},
   "outputs": [
    {
     "data": {
      "text/plain": [
       "col2    2\n",
       "col3    6\n",
       "Name: 2, dtype: int64"
      ]
     },
     "execution_count": 52,
     "metadata": {},
     "output_type": "execute_result"
    }
   ],
   "source": [
    "df.loc[2, ['col2', 'col3']]"
   ]
  },
  {
   "cell_type": "code",
   "execution_count": null,
   "id": "ef0fc89e-85b7-4963-a8b4-ae481903c355",
   "metadata": {},
   "outputs": [],
   "source": []
  }
 ],
 "metadata": {
  "kernelspec": {
   "display_name": "Python 3 (ipykernel)",
   "language": "python",
   "name": "python3"
  },
  "language_info": {
   "codemirror_mode": {
    "name": "ipython",
    "version": 3
   },
   "file_extension": ".py",
   "mimetype": "text/x-python",
   "name": "python",
   "nbconvert_exporter": "python",
   "pygments_lexer": "ipython3",
   "version": "3.10.6"
  }
 },
 "nbformat": 4,
 "nbformat_minor": 5
}
