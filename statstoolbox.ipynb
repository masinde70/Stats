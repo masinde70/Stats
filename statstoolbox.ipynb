{
 "cells": [
  {
   "cell_type": "markdown",
   "id": "14a4d5c4-fe7f-407d-a93c-b74b16ac10d7",
   "metadata": {},
   "source": [
    "In Statistics is all about working with data, be it processing, analyzing, or drawing a conclusion from the data we have. In the context of a given dataset, statistics has two main goals: describing the data, and drawing conclusions from it. These goals coincide with the two main categories of statistics — descriptive statistics and inferential statistics — respectively."
   ]
  },
  {
   "cell_type": "code",
   "execution_count": 1,
   "id": "28d296c6-33cf-473f-86a3-dd29947f59c8",
   "metadata": {},
   "outputs": [],
   "source": [
    "import pandas as pd \n",
    "import numpy as np"
   ]
  },
  {
   "cell_type": "code",
   "execution_count": 3,
   "id": "821a9116-3203-4eb6-bb7e-981b0ba18fe3",
   "metadata": {},
   "outputs": [
    {
     "ename": "SyntaxError",
     "evalue": "invalid syntax (1569238736.py, line 1)",
     "output_type": "error",
     "traceback": [
      "\u001b[0;36m  Cell \u001b[0;32mIn[3], line 1\u001b[0;36m\u001b[0m\n\u001b[0;31m    weather_df = pd.DataFrame('temp': [55, 34, 80, 75, 53], 'weather': ['windy','cloudy','sunny','rainy','sunny'])\u001b[0m\n\u001b[0m                                    ^\u001b[0m\n\u001b[0;31mSyntaxError\u001b[0m\u001b[0;31m:\u001b[0m invalid syntax\n"
     ]
    }
   ],
   "source": [
    "weather_df = pd.DataFrame('temp': [55, 34, 80, 75, 53], 'weather': ['windy','cloudy','sunny','rainy','sunny'])"
   ]
  },
  {
   "cell_type": "code",
   "execution_count": null,
   "id": "6a0ee799-5933-4159-b818-cf9152333e2e",
   "metadata": {},
   "outputs": [],
   "source": []
  }
 ],
 "metadata": {
  "kernelspec": {
   "display_name": "Python 3 (ipykernel)",
   "language": "python",
   "name": "python3"
  },
  "language_info": {
   "codemirror_mode": {
    "name": "ipython",
    "version": 3
   },
   "file_extension": ".py",
   "mimetype": "text/x-python",
   "name": "python",
   "nbconvert_exporter": "python",
   "pygments_lexer": "ipython3",
   "version": "3.10.8"
  }
 },
 "nbformat": 4,
 "nbformat_minor": 5
}
