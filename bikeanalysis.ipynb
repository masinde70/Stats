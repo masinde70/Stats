{
 "cells": [
  {
   "cell_type": "code",
   "execution_count": null,
   "id": "baf353f5-4142-439a-8133-22a0b6d56e27",
   "metadata": {},
   "outputs": [],
   "source": [
    "# imports\n",
    "import pandas as pd\n",
    "import seaborn as sns\n",
    "import matplotlib.pyplot as plt\n",
    "import numpy as np\n",
    "%matplotlib inline\n"
   ]
  },
  {
   "cell_type": "markdown",
   "id": "df06e3af-a565-4616-b57a-90c46645e2dc",
   "metadata": {},
   "source": [
    "### load data direct from github"
   ]
  },
  {
   "cell_type": "code",
   "execution_count": null,
   "id": "8c8a4234-8d90-4416-a6e1-f647dd329aba",
   "metadata": {},
   "outputs": [],
   "source": [
    "# load hourly data\n",
    "hourly_data = pd.read_csv('hour.csv')"
   ]
  },
  {
   "cell_type": "code",
   "execution_count": null,
   "id": "9be1cf67-5fe8-408f-9ba0-a27fdd696f7f",
   "metadata": {},
   "outputs": [],
   "source": [
    "# print some generic statistics about the data\n",
    "print(f\"Shape of data: {hourly_data.shape}\")\n",
    "print(f\"Number of missing values in the data:\\\n",
    "{hourly_data.isnull().sum().sum()}\")\n"
   ]
  },
  {
   "cell_type": "code",
   "execution_count": null,
   "id": "f66cc204-a7b9-4ff3-91c8-d5261cb57ba1",
   "metadata": {},
   "outputs": [],
   "source": [
    "hourly_data.describe().T"
   ]
  },
  {
   "cell_type": "code",
   "execution_count": null,
   "id": "c146897b-0dd5-4bf6-ae1d-d64c4b8cd5b6",
   "metadata": {},
   "outputs": [],
   "source": [
    "# create a copy of the original data This is done as we do not want a specific transformation to affect our initial data\n",
    "preprocessed_data = hourly_data.copy()"
   ]
  }
 ],
 "metadata": {
  "kernelspec": {
   "display_name": "Python 3 (ipykernel)",
   "language": "python",
   "name": "python3"
  },
  "language_info": {
   "codemirror_mode": {
    "name": "ipython",
    "version": 3
   },
   "file_extension": ".py",
   "mimetype": "text/x-python",
   "name": "python",
   "nbconvert_exporter": "python",
   "pygments_lexer": "ipython3",
   "version": "3.10.8"
  }
 },
 "nbformat": 4,
 "nbformat_minor": 5
}
