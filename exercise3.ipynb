{
 "cells": [
  {
   "cell_type": "markdown",
   "id": "fb0b6869-cc8f-4589-8894-1ea1ef562f44",
   "metadata": {},
   "source": [
    "import pandas as pd\n",
    "import matplotlib.pyplot as plt\n",
    "\n",
    "\n"
   ]
  },
  {
   "cell_type": "code",
   "execution_count": 1,
   "id": "55781724-20dc-4c3b-a6e8-9de5e34973bf",
   "metadata": {},
   "outputs": [
    {
     "ename": "NameError",
     "evalue": "name 'pd' is not defined",
     "output_type": "error",
     "traceback": [
      "\u001b[0;31m---------------------------------------------------------------------------\u001b[0m",
      "\u001b[0;31mNameError\u001b[0m                                 Traceback (most recent call last)",
      "Cell \u001b[0;32mIn[1], line 1\u001b[0m\n\u001b[0;32m----> 1\u001b[0m student_df \u001b[38;5;241m=\u001b[39m \u001b[43mpd\u001b[49m\u001b[38;5;241m.\u001b[39mDataFrame({\u001b[38;5;124m'\u001b[39m\u001b[38;5;124mname\u001b[39m\u001b[38;5;124m'\u001b[39m: [\u001b[38;5;124m'\u001b[39m\u001b[38;5;124mAlice\u001b[39m\u001b[38;5;124m'\u001b[39m, \u001b[38;5;124m'\u001b[39m\u001b[38;5;124mBob\u001b[39m\u001b[38;5;124m'\u001b[39m, \u001b[38;5;124m'\u001b[39m\u001b[38;5;124mCarol\u001b[39m\u001b[38;5;124m'\u001b[39m, \u001b[38;5;124m'\u001b[39m\u001b[38;5;124mDan\u001b[39m\u001b[38;5;124m'\u001b[39m, \u001b[38;5;124m'\u001b[39m\u001b[38;5;124mEli\u001b[39m\u001b[38;5;124m'\u001b[39m, \u001b[38;5;124m'\u001b[39m\u001b[38;5;124mFran\u001b[39m\u001b[38;5;124m'\u001b[39m],\n\u001b[1;32m      2\u001b[0m                            \u001b[38;5;124m'\u001b[39m\u001b[38;5;124mgender\u001b[39m\u001b[38;5;124m'\u001b[39m: [\u001b[38;5;124m'\u001b[39m\u001b[38;5;124mfemale\u001b[39m\u001b[38;5;124m'\u001b[39m, \u001b[38;5;124m'\u001b[39m\u001b[38;5;124mmale\u001b[39m\u001b[38;5;124m'\u001b[39m,\u001b[38;5;124m'\u001b[39m\u001b[38;5;124mfemale\u001b[39m\u001b[38;5;124m'\u001b[39m, \u001b[38;5;124m'\u001b[39m\u001b[38;5;124mmale\u001b[39m\u001b[38;5;124m'\u001b[39m, \u001b[38;5;124m'\u001b[39m\u001b[38;5;124mmale\u001b[39m\u001b[38;5;124m'\u001b[39m, \u001b[38;5;124m'\u001b[39m\u001b[38;5;124mfemale\u001b[39m\u001b[38;5;124m'\u001b[39m],\n\u001b[1;32m      3\u001b[0m                            \u001b[38;5;124m'\u001b[39m\u001b[38;5;124mclass\u001b[39m\u001b[38;5;124m'\u001b[39m: [\u001b[38;5;124m'\u001b[39m\u001b[38;5;124mFY\u001b[39m\u001b[38;5;124m'\u001b[39m, \u001b[38;5;124m'\u001b[39m\u001b[38;5;124mSO\u001b[39m\u001b[38;5;124m'\u001b[39m, \u001b[38;5;124m'\u001b[39m\u001b[38;5;124mSR\u001b[39m\u001b[38;5;124m'\u001b[39m, \u001b[38;5;124m'\u001b[39m\u001b[38;5;124mSO\u001b[39m\u001b[38;5;124m'\u001b[39m,\u001b[38;5;124m'\u001b[39m\u001b[38;5;124m JR\u001b[39m\u001b[38;5;124m'\u001b[39m, \u001b[38;5;124m'\u001b[39m\u001b[38;5;124mSR\u001b[39m\u001b[38;5;124m'\u001b[39m],\n\u001b[1;32m      4\u001b[0m                            \u001b[38;5;124m'\u001b[39m\u001b[38;5;124mgpa\u001b[39m\u001b[38;5;124m'\u001b[39m: [\u001b[38;5;241m90\u001b[39m, \u001b[38;5;241m93\u001b[39m, \u001b[38;5;241m97\u001b[39m, \u001b[38;5;241m89\u001b[39m, \u001b[38;5;241m95\u001b[39m, \u001b[38;5;241m92\u001b[39m],\u001b[38;5;124m'\u001b[39m\u001b[38;5;124mnum_classes\u001b[39m\u001b[38;5;124m'\u001b[39m: [\u001b[38;5;241m4\u001b[39m, \u001b[38;5;241m3\u001b[39m, \u001b[38;5;241m4\u001b[39m, \u001b[38;5;241m4\u001b[39m, \u001b[38;5;241m3\u001b[39m, \u001b[38;5;241m2\u001b[39m]})\n\u001b[1;32m      5\u001b[0m student_df\n",
      "\u001b[0;31mNameError\u001b[0m: name 'pd' is not defined"
     ]
    }
   ],
   "source": [
    "student_df = pd.DataFrame({'name': ['Alice', 'Bob', 'Carol', 'Dan', 'Eli', 'Fran'],\n",
    "                           'gender': ['female', 'male','female', 'male', 'male', 'female'],\n",
    "                           'class': ['FY', 'SO', 'SR', 'SO',' JR', 'SR'],\n",
    "                           'gpa': [90, 93, 97, 89, 95, 92],'num_classes': [4, 3, 4, 4, 3, 2]})\n",
    "student_df"
   ]
  },
  {
   "cell_type": "markdown",
   "id": "cc7cf301-fc1c-4e10-8d46-143e1a915181",
   "metadata": {},
   "source": [
    "#### Create new attibute named 'female_flag' whose individual cells should hold the Boolean value True if the corresponding student is female, otherwise False"
   ]
  },
  {
   "cell_type": "code",
   "execution_count": null,
   "id": "49d9b370-5b9e-4993-905b-e08482202e8f",
   "metadata": {},
   "outputs": [],
   "source": [
    "student_df['female_flag'] = student_df['gender'].apply(lambda x: x=='female')"
   ]
  },
  {
   "cell_type": "code",
   "execution_count": null,
   "id": "498adefc-fbbf-40fb-b7b5-eed6ffc86ba8",
   "metadata": {},
   "outputs": [],
   "source": [
    "student_df"
   ]
  },
  {
   "cell_type": "code",
   "execution_count": null,
   "id": "039010f0-6143-41f6-aa59-31df90001285",
   "metadata": {},
   "outputs": [],
   "source": [
    "student_df=student_df.drop('gender', axis=1)"
   ]
  },
  {
   "cell_type": "code",
   "execution_count": null,
   "id": "eb4457d9-47a0-4f4d-a899-15fc3efee1a8",
   "metadata": {},
   "outputs": [],
   "source": [
    "student_df"
   ]
  },
  {
   "cell_type": "code",
   "execution_count": null,
   "id": "ab9a62c2-a8d8-47cc-b5e6-7a10ef613c5a",
   "metadata": {},
   "outputs": [],
   "source": [
    "# apply hot encodding to class column by using get_dummies\n",
    "student_df= pd.concat([student_df.drop('class', axis=1), pd.get_dummies(student_df['class'])], axis=1)\n",
    "student_df"
   ]
  },
  {
   "cell_type": "code",
   "execution_count": null,
   "id": "749adb2e-70ed-439c-b031-f4e5f2975ef0",
   "metadata": {},
   "outputs": [],
   "source": [
    "gender_group = student_df.groupby('female_flag')\n",
    "gender_group"
   ]
  },
  {
   "cell_type": "code",
   "execution_count": null,
   "id": "93971a8d-2498-46a2-a7f7-6867ed5e04f6",
   "metadata": {},
   "outputs": [],
   "source": [
    "gender_group['gpa'].mean()"
   ]
  },
  {
   "cell_type": "code",
   "execution_count": null,
   "id": "700bd752-d6d8-443e-9af3-9ae4c7cd2742",
   "metadata": {},
   "outputs": [],
   "source": [
    "gender_group['num_classes'].sum()"
   ]
  },
  {
   "cell_type": "markdown",
   "id": "ab5181f0-a97e-4ec0-8490-04a17e9c6d2d",
   "metadata": {},
   "source": [
    "## Scatterplot\n",
    "scatter plots are used when we'd like to visualize the spatial distribution of the data that we are interested in. A potential goal of using a scatter plot is to reveal any clustering existing within our data, which can offer us further insights regarding the relationship between the attributes of our dataset"
   ]
  },
  {
   "cell_type": "code",
   "execution_count": null,
   "id": "4a127f4a-c26f-4da4-bda4-d6bff18aaa71",
   "metadata": {},
   "outputs": [],
   "source": [
    "## Ploting a  list of points on plane\n",
    "x = [1, 2, 3, 1.5, 2]\n",
    "y = [-1, 5, 2, 3, 0]\n",
    "sizes = [10, 40, 60, 80, 100]\n",
    "colors = ['r', 'b', 'y', 'g', 'k']\n",
    "\n",
    "\n",
    "plt.scatter(x, y, s=sizes, c=colors)\n",
    "plt.show()"
   ]
  },
  {
   "cell_type": "markdown",
   "id": "6fab34f9-d8d4-402e-8eaf-7007a57e4047",
   "metadata": {},
   "source": [
    "## Line Graphs \n",
    "\n",
    "Line graphs are used to visualize the trend of a specific function, which is represented by a list of points sequenced in order. As such, this method is highly applicable to data with some sequential elements, such as a time series dataset."
   ]
  },
  {
   "cell_type": "code",
   "execution_count": null,
   "id": "4d75e005-767c-4044-bfa0-f3ddc103ada9",
   "metadata": {},
   "outputs": [],
   "source": [
    "import numpy as np\n",
    "x = np.linspace(0, 10, 1000)\n",
    "y = np.sin(x)\n",
    "plt.plot(x, y)\n",
    "plt.show()"
   ]
  },
  {
   "cell_type": "code",
   "execution_count": null,
   "id": "35439cc4-772c-4d57-8dec-64ecb8f1455a",
   "metadata": {},
   "outputs": [],
   "source": [
    "x = np.linspace(1, 10, 1000)\n",
    "linear_line = x\n",
    "log_curve = np.log(x)\n",
    "sin_wave = np.sin(x)\n",
    "curves = [linear_line, log_curve, sin_wave]\n",
    "colors = ['k', 'r', 'b']\n",
    "styles = ['-', '--', ':']\n",
    "for curve, color, style in zip(curves, colors, styles):\n",
    "    plt.plot(x, curve, c=color, linestyle=style)\n",
    "plt.show()"
   ]
  },
  {
   "cell_type": "markdown",
   "id": "31236dfe-98f4-437a-b77e-b85dc13a3f25",
   "metadata": {},
   "source": [
    "## Bar Graphs\n",
    "Bar graphs are typically used to represent the counts of unique values in a dataset via the height of individual bars."
   ]
  },
  {
   "cell_type": "code",
   "execution_count": null,
   "id": "84b35927-d3f5-4dfa-b996-e5ead2fff376",
   "metadata": {},
   "outputs": [],
   "source": [
    "labels = ['Type 1', 'Type 2', 'Type 3']\n",
    "counts = [2, 3, 5]\n",
    "plt.bar(labels, counts)\n",
    "plt.show()"
   ]
  },
  {
   "cell_type": "markdown",
   "id": "f4520551-b9a2-487c-9de1-5444398e5c31",
   "metadata": {},
   "source": [
    "## Histogram\n",
    "\n",
    "A histogram is a visualization that places multiple bars together, but its connection to bar graphs ends there. Histograms are usually used to represent the distribution of values within an attribute (a numerical attribute, to be more precise). Taking in an array of numbers, a histogram should consist of multiple bars, each spanning across a specific range to denote the amount of numbers belonging to that range."
   ]
  },
  {
   "cell_type": "code",
   "execution_count": null,
   "id": "2d9a0410-b957-42a8-9a81-d55000501111",
   "metadata": {},
   "outputs": [],
   "source": [
    "x = np.random.randn(100)\n",
    "plt.hist"
   ]
  }
 ],
 "metadata": {
  "kernelspec": {
   "display_name": "Python 3 (ipykernel)",
   "language": "python",
   "name": "python3"
  },
  "language_info": {
   "codemirror_mode": {
    "name": "ipython",
    "version": 3
   },
   "file_extension": ".py",
   "mimetype": "text/x-python",
   "name": "python",
   "nbconvert_exporter": "python",
   "pygments_lexer": "ipython3",
   "version": "3.10.8"
  }
 },
 "nbformat": 4,
 "nbformat_minor": 5
}
