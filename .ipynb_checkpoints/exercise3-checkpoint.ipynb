{
 "cells": [
  {
   "cell_type": "code",
   "execution_count": 1,
   "id": "3b4b1d6c-240a-4ff3-960d-d38095a80a6f",
   "metadata": {},
   "outputs": [],
   "source": [
    "import pandas as pd\n",
    "import matplotlib.pyplot as plt\n",
    "\n",
    "\n"
   ]
  },
  {
   "cell_type": "code",
   "execution_count": 2,
   "id": "55781724-20dc-4c3b-a6e8-9de5e34973bf",
   "metadata": {},
   "outputs": [
    {
     "data": {
      "text/html": [
       "<div>\n",
       "<style scoped>\n",
       "    .dataframe tbody tr th:only-of-type {\n",
       "        vertical-align: middle;\n",
       "    }\n",
       "\n",
       "    .dataframe tbody tr th {\n",
       "        vertical-align: top;\n",
       "    }\n",
       "\n",
       "    .dataframe thead th {\n",
       "        text-align: right;\n",
       "    }\n",
       "</style>\n",
       "<table border=\"1\" class=\"dataframe\">\n",
       "  <thead>\n",
       "    <tr style=\"text-align: right;\">\n",
       "      <th></th>\n",
       "      <th>name</th>\n",
       "      <th>gender</th>\n",
       "      <th>class</th>\n",
       "      <th>gpa</th>\n",
       "      <th>num_classes</th>\n",
       "    </tr>\n",
       "  </thead>\n",
       "  <tbody>\n",
       "    <tr>\n",
       "      <th>0</th>\n",
       "      <td>Alice</td>\n",
       "      <td>female</td>\n",
       "      <td>FY</td>\n",
       "      <td>90</td>\n",
       "      <td>4</td>\n",
       "    </tr>\n",
       "    <tr>\n",
       "      <th>1</th>\n",
       "      <td>Bob</td>\n",
       "      <td>male</td>\n",
       "      <td>SO</td>\n",
       "      <td>93</td>\n",
       "      <td>3</td>\n",
       "    </tr>\n",
       "    <tr>\n",
       "      <th>2</th>\n",
       "      <td>Carol</td>\n",
       "      <td>female</td>\n",
       "      <td>SR</td>\n",
       "      <td>97</td>\n",
       "      <td>4</td>\n",
       "    </tr>\n",
       "    <tr>\n",
       "      <th>3</th>\n",
       "      <td>Dan</td>\n",
       "      <td>male</td>\n",
       "      <td>SO</td>\n",
       "      <td>89</td>\n",
       "      <td>4</td>\n",
       "    </tr>\n",
       "    <tr>\n",
       "      <th>4</th>\n",
       "      <td>Eli</td>\n",
       "      <td>male</td>\n",
       "      <td>JR</td>\n",
       "      <td>95</td>\n",
       "      <td>3</td>\n",
       "    </tr>\n",
       "    <tr>\n",
       "      <th>5</th>\n",
       "      <td>Fran</td>\n",
       "      <td>female</td>\n",
       "      <td>SR</td>\n",
       "      <td>92</td>\n",
       "      <td>2</td>\n",
       "    </tr>\n",
       "  </tbody>\n",
       "</table>\n",
       "</div>"
      ],
      "text/plain": [
       "    name  gender class  gpa  num_classes\n",
       "0  Alice  female    FY   90            4\n",
       "1    Bob    male    SO   93            3\n",
       "2  Carol  female    SR   97            4\n",
       "3    Dan    male    SO   89            4\n",
       "4    Eli    male    JR   95            3\n",
       "5   Fran  female    SR   92            2"
      ]
     },
     "execution_count": 2,
     "metadata": {},
     "output_type": "execute_result"
    }
   ],
   "source": [
    "student_df = pd.DataFrame({'name': ['Alice', 'Bob', 'Carol', 'Dan', 'Eli', 'Fran'],\n",
    "                           'gender': ['female', 'male','female', 'male', 'male', 'female'],\n",
    "                           'class': ['FY', 'SO', 'SR', 'SO',' JR', 'SR'],\n",
    "                           'gpa': [90, 93, 97, 89, 95, 92],'num_classes': [4, 3, 4, 4, 3, 2]})\n",
    "student_df"
   ]
  },
  {
   "cell_type": "markdown",
   "id": "cc7cf301-fc1c-4e10-8d46-143e1a915181",
   "metadata": {},
   "source": [
    "#### Create new attibute named 'female_flag' whose individual cells should hold the Boolean value True if the corresponding student is female, otherwise False"
   ]
  },
  {
   "cell_type": "code",
   "execution_count": 3,
   "id": "49d9b370-5b9e-4993-905b-e08482202e8f",
   "metadata": {},
   "outputs": [],
   "source": [
    "student_df['female_flag'] = student_df['gender'].apply(lambda x: x=='female')"
   ]
  },
  {
   "cell_type": "code",
   "execution_count": 4,
   "id": "498adefc-fbbf-40fb-b7b5-eed6ffc86ba8",
   "metadata": {},
   "outputs": [
    {
     "data": {
      "text/html": [
       "<div>\n",
       "<style scoped>\n",
       "    .dataframe tbody tr th:only-of-type {\n",
       "        vertical-align: middle;\n",
       "    }\n",
       "\n",
       "    .dataframe tbody tr th {\n",
       "        vertical-align: top;\n",
       "    }\n",
       "\n",
       "    .dataframe thead th {\n",
       "        text-align: right;\n",
       "    }\n",
       "</style>\n",
       "<table border=\"1\" class=\"dataframe\">\n",
       "  <thead>\n",
       "    <tr style=\"text-align: right;\">\n",
       "      <th></th>\n",
       "      <th>name</th>\n",
       "      <th>gender</th>\n",
       "      <th>class</th>\n",
       "      <th>gpa</th>\n",
       "      <th>num_classes</th>\n",
       "      <th>female_flag</th>\n",
       "    </tr>\n",
       "  </thead>\n",
       "  <tbody>\n",
       "    <tr>\n",
       "      <th>0</th>\n",
       "      <td>Alice</td>\n",
       "      <td>female</td>\n",
       "      <td>FY</td>\n",
       "      <td>90</td>\n",
       "      <td>4</td>\n",
       "      <td>True</td>\n",
       "    </tr>\n",
       "    <tr>\n",
       "      <th>1</th>\n",
       "      <td>Bob</td>\n",
       "      <td>male</td>\n",
       "      <td>SO</td>\n",
       "      <td>93</td>\n",
       "      <td>3</td>\n",
       "      <td>False</td>\n",
       "    </tr>\n",
       "    <tr>\n",
       "      <th>2</th>\n",
       "      <td>Carol</td>\n",
       "      <td>female</td>\n",
       "      <td>SR</td>\n",
       "      <td>97</td>\n",
       "      <td>4</td>\n",
       "      <td>True</td>\n",
       "    </tr>\n",
       "    <tr>\n",
       "      <th>3</th>\n",
       "      <td>Dan</td>\n",
       "      <td>male</td>\n",
       "      <td>SO</td>\n",
       "      <td>89</td>\n",
       "      <td>4</td>\n",
       "      <td>False</td>\n",
       "    </tr>\n",
       "    <tr>\n",
       "      <th>4</th>\n",
       "      <td>Eli</td>\n",
       "      <td>male</td>\n",
       "      <td>JR</td>\n",
       "      <td>95</td>\n",
       "      <td>3</td>\n",
       "      <td>False</td>\n",
       "    </tr>\n",
       "    <tr>\n",
       "      <th>5</th>\n",
       "      <td>Fran</td>\n",
       "      <td>female</td>\n",
       "      <td>SR</td>\n",
       "      <td>92</td>\n",
       "      <td>2</td>\n",
       "      <td>True</td>\n",
       "    </tr>\n",
       "  </tbody>\n",
       "</table>\n",
       "</div>"
      ],
      "text/plain": [
       "    name  gender class  gpa  num_classes  female_flag\n",
       "0  Alice  female    FY   90            4         True\n",
       "1    Bob    male    SO   93            3        False\n",
       "2  Carol  female    SR   97            4         True\n",
       "3    Dan    male    SO   89            4        False\n",
       "4    Eli    male    JR   95            3        False\n",
       "5   Fran  female    SR   92            2         True"
      ]
     },
     "execution_count": 4,
     "metadata": {},
     "output_type": "execute_result"
    }
   ],
   "source": [
    "student_df"
   ]
  },
  {
   "cell_type": "code",
   "execution_count": 5,
   "id": "039010f0-6143-41f6-aa59-31df90001285",
   "metadata": {},
   "outputs": [],
   "source": [
    "student_df=student_df.drop('gender', axis=1)"
   ]
  },
  {
   "cell_type": "code",
   "execution_count": 6,
   "id": "eb4457d9-47a0-4f4d-a899-15fc3efee1a8",
   "metadata": {},
   "outputs": [
    {
     "data": {
      "text/html": [
       "<div>\n",
       "<style scoped>\n",
       "    .dataframe tbody tr th:only-of-type {\n",
       "        vertical-align: middle;\n",
       "    }\n",
       "\n",
       "    .dataframe tbody tr th {\n",
       "        vertical-align: top;\n",
       "    }\n",
       "\n",
       "    .dataframe thead th {\n",
       "        text-align: right;\n",
       "    }\n",
       "</style>\n",
       "<table border=\"1\" class=\"dataframe\">\n",
       "  <thead>\n",
       "    <tr style=\"text-align: right;\">\n",
       "      <th></th>\n",
       "      <th>name</th>\n",
       "      <th>class</th>\n",
       "      <th>gpa</th>\n",
       "      <th>num_classes</th>\n",
       "      <th>female_flag</th>\n",
       "    </tr>\n",
       "  </thead>\n",
       "  <tbody>\n",
       "    <tr>\n",
       "      <th>0</th>\n",
       "      <td>Alice</td>\n",
       "      <td>FY</td>\n",
       "      <td>90</td>\n",
       "      <td>4</td>\n",
       "      <td>True</td>\n",
       "    </tr>\n",
       "    <tr>\n",
       "      <th>1</th>\n",
       "      <td>Bob</td>\n",
       "      <td>SO</td>\n",
       "      <td>93</td>\n",
       "      <td>3</td>\n",
       "      <td>False</td>\n",
       "    </tr>\n",
       "    <tr>\n",
       "      <th>2</th>\n",
       "      <td>Carol</td>\n",
       "      <td>SR</td>\n",
       "      <td>97</td>\n",
       "      <td>4</td>\n",
       "      <td>True</td>\n",
       "    </tr>\n",
       "    <tr>\n",
       "      <th>3</th>\n",
       "      <td>Dan</td>\n",
       "      <td>SO</td>\n",
       "      <td>89</td>\n",
       "      <td>4</td>\n",
       "      <td>False</td>\n",
       "    </tr>\n",
       "    <tr>\n",
       "      <th>4</th>\n",
       "      <td>Eli</td>\n",
       "      <td>JR</td>\n",
       "      <td>95</td>\n",
       "      <td>3</td>\n",
       "      <td>False</td>\n",
       "    </tr>\n",
       "    <tr>\n",
       "      <th>5</th>\n",
       "      <td>Fran</td>\n",
       "      <td>SR</td>\n",
       "      <td>92</td>\n",
       "      <td>2</td>\n",
       "      <td>True</td>\n",
       "    </tr>\n",
       "  </tbody>\n",
       "</table>\n",
       "</div>"
      ],
      "text/plain": [
       "    name class  gpa  num_classes  female_flag\n",
       "0  Alice    FY   90            4         True\n",
       "1    Bob    SO   93            3        False\n",
       "2  Carol    SR   97            4         True\n",
       "3    Dan    SO   89            4        False\n",
       "4    Eli    JR   95            3        False\n",
       "5   Fran    SR   92            2         True"
      ]
     },
     "execution_count": 6,
     "metadata": {},
     "output_type": "execute_result"
    }
   ],
   "source": [
    "student_df"
   ]
  },
  {
   "cell_type": "code",
   "execution_count": 7,
   "id": "ab9a62c2-a8d8-47cc-b5e6-7a10ef613c5a",
   "metadata": {},
   "outputs": [
    {
     "data": {
      "text/html": [
       "<div>\n",
       "<style scoped>\n",
       "    .dataframe tbody tr th:only-of-type {\n",
       "        vertical-align: middle;\n",
       "    }\n",
       "\n",
       "    .dataframe tbody tr th {\n",
       "        vertical-align: top;\n",
       "    }\n",
       "\n",
       "    .dataframe thead th {\n",
       "        text-align: right;\n",
       "    }\n",
       "</style>\n",
       "<table border=\"1\" class=\"dataframe\">\n",
       "  <thead>\n",
       "    <tr style=\"text-align: right;\">\n",
       "      <th></th>\n",
       "      <th>name</th>\n",
       "      <th>gpa</th>\n",
       "      <th>num_classes</th>\n",
       "      <th>female_flag</th>\n",
       "      <th>JR</th>\n",
       "      <th>FY</th>\n",
       "      <th>SO</th>\n",
       "      <th>SR</th>\n",
       "    </tr>\n",
       "  </thead>\n",
       "  <tbody>\n",
       "    <tr>\n",
       "      <th>0</th>\n",
       "      <td>Alice</td>\n",
       "      <td>90</td>\n",
       "      <td>4</td>\n",
       "      <td>True</td>\n",
       "      <td>0</td>\n",
       "      <td>1</td>\n",
       "      <td>0</td>\n",
       "      <td>0</td>\n",
       "    </tr>\n",
       "    <tr>\n",
       "      <th>1</th>\n",
       "      <td>Bob</td>\n",
       "      <td>93</td>\n",
       "      <td>3</td>\n",
       "      <td>False</td>\n",
       "      <td>0</td>\n",
       "      <td>0</td>\n",
       "      <td>1</td>\n",
       "      <td>0</td>\n",
       "    </tr>\n",
       "    <tr>\n",
       "      <th>2</th>\n",
       "      <td>Carol</td>\n",
       "      <td>97</td>\n",
       "      <td>4</td>\n",
       "      <td>True</td>\n",
       "      <td>0</td>\n",
       "      <td>0</td>\n",
       "      <td>0</td>\n",
       "      <td>1</td>\n",
       "    </tr>\n",
       "    <tr>\n",
       "      <th>3</th>\n",
       "      <td>Dan</td>\n",
       "      <td>89</td>\n",
       "      <td>4</td>\n",
       "      <td>False</td>\n",
       "      <td>0</td>\n",
       "      <td>0</td>\n",
       "      <td>1</td>\n",
       "      <td>0</td>\n",
       "    </tr>\n",
       "    <tr>\n",
       "      <th>4</th>\n",
       "      <td>Eli</td>\n",
       "      <td>95</td>\n",
       "      <td>3</td>\n",
       "      <td>False</td>\n",
       "      <td>1</td>\n",
       "      <td>0</td>\n",
       "      <td>0</td>\n",
       "      <td>0</td>\n",
       "    </tr>\n",
       "    <tr>\n",
       "      <th>5</th>\n",
       "      <td>Fran</td>\n",
       "      <td>92</td>\n",
       "      <td>2</td>\n",
       "      <td>True</td>\n",
       "      <td>0</td>\n",
       "      <td>0</td>\n",
       "      <td>0</td>\n",
       "      <td>1</td>\n",
       "    </tr>\n",
       "  </tbody>\n",
       "</table>\n",
       "</div>"
      ],
      "text/plain": [
       "    name  gpa  num_classes  female_flag   JR  FY  SO  SR\n",
       "0  Alice   90            4         True    0   1   0   0\n",
       "1    Bob   93            3        False    0   0   1   0\n",
       "2  Carol   97            4         True    0   0   0   1\n",
       "3    Dan   89            4        False    0   0   1   0\n",
       "4    Eli   95            3        False    1   0   0   0\n",
       "5   Fran   92            2         True    0   0   0   1"
      ]
     },
     "execution_count": 7,
     "metadata": {},
     "output_type": "execute_result"
    }
   ],
   "source": [
    "# apply hot encodding to class column by using get_dummies\n",
    "student_df= pd.concat([student_df.drop('class', axis=1), pd.get_dummies(student_df['class'])], axis=1)\n",
    "student_df"
   ]
  },
  {
   "cell_type": "code",
   "execution_count": 8,
   "id": "749adb2e-70ed-439c-b031-f4e5f2975ef0",
   "metadata": {},
   "outputs": [
    {
     "data": {
      "text/plain": [
       "<pandas.core.groupby.generic.DataFrameGroupBy object at 0x12fb34b20>"
      ]
     },
     "execution_count": 8,
     "metadata": {},
     "output_type": "execute_result"
    }
   ],
   "source": [
    "gender_group = student_df.groupby('female_flag')\n",
    "gender_group"
   ]
  },
  {
   "cell_type": "code",
   "execution_count": 9,
   "id": "93971a8d-2498-46a2-a7f7-6867ed5e04f6",
   "metadata": {},
   "outputs": [
    {
     "data": {
      "text/plain": [
       "female_flag\n",
       "False    92.333333\n",
       "True     93.000000\n",
       "Name: gpa, dtype: float64"
      ]
     },
     "execution_count": 9,
     "metadata": {},
     "output_type": "execute_result"
    }
   ],
   "source": [
    "gender_group['gpa'].mean()"
   ]
  },
  {
   "cell_type": "code",
   "execution_count": 10,
   "id": "700bd752-d6d8-443e-9af3-9ae4c7cd2742",
   "metadata": {},
   "outputs": [
    {
     "data": {
      "text/plain": [
       "female_flag\n",
       "False    10\n",
       "True     10\n",
       "Name: num_classes, dtype: int64"
      ]
     },
     "execution_count": 10,
     "metadata": {},
     "output_type": "execute_result"
    }
   ],
   "source": [
    "gender_group['num_classes'].sum()"
   ]
  },
  {
   "cell_type": "markdown",
   "id": "ab5181f0-a97e-4ec0-8490-04a17e9c6d2d",
   "metadata": {},
   "source": [
    "## Scatterplot\n",
    "scatter plots are used when we'd like to visualize the spatial distribution of the data that we are interested in. A potential goal of using a scatter plot is to reveal any clustering existing within our data, which can offer us further insights regarding the relationship between the attributes of our dataset"
   ]
  },
  {
   "cell_type": "code",
   "execution_count": 11,
   "id": "4a127f4a-c26f-4da4-bda4-d6bff18aaa71",
   "metadata": {},
   "outputs": [
    {
     "data": {
      "image/png": "[encoded data removed]",
      "text/plain": [
       "<Figure size 640x480 with 1 Axes>"
      ]
     },
     "metadata": {},
     "output_type": "display_data"
    }
   ],
   "source": [
    "## Ploting a  list of points on plane\n",
    "x = [1, 2, 3, 1.5, 2]\n",
    "y = [-1, 5, 2, 3, 0]\n",
    "sizes = [10, 40, 60, 80, 100]\n",
    "colors = ['r', 'b', 'y', 'g', 'k']\n",
    "\n",
    "\n",
    "plt.scatter(x, y, s=sizes, c=colors)\n",
    "plt.show()"
   ]
  },
  {
   "cell_type": "markdown",
   "id": "6fab34f9-d8d4-402e-8eaf-7007a57e4047",
   "metadata": {},
   "source": [
    "## Line Graphs \n",
    "\n",
    "Line graphs are used to visualize the trend of a specific function, which is represented by a list of points sequenced in order. As such, this method is highly applicable to data with some sequential elements, such as a time series dataset."
   ]
  },
  {
   "cell_type": "code",
   "execution_count": 12,
   "id": "4d75e005-767c-4044-bfa0-f3ddc103ada9",
   "metadata": {},
   "outputs": [
    {
     "data": {
      "image/png": "[encoded data removed]",
      "text/plain": [
       "<Figure size 640x480 with 1 Axes>"
      ]
     },
     "metadata": {},
     "output_type": "display_data"
    }
   ],
   "source": [
    "import numpy as np\n",
    "x = np.linspace(0, 10, 1000)\n",
    "y = np.sin(x)\n",
    "plt.plot(x, y)\n",
    "plt.show()"
   ]
  },
  {
   "cell_type": "code",
   "execution_count": 13,
   "id": "f966d61b-7e9f-4b42-8279-06bc6584e4f7",
   "metadata": {},
   "outputs": [
    {
     "data": {
      "image/png": "[encoded data removed]",
      "text/plain": [
       "<Figure size 640x480 with 1 Axes>"
      ]
     },
     "metadata": {},
     "output_type": "display_data"
    }
   ],
   "source": [
    "x = np.linspace(1, 10, 1000)\n",
    "linear_line = x\n",
    "log_curve = np.log(x)\n",
    "sin_wave = np.sin(x)\n",
    "curves = [linear_line, log_curve, sin_wave]\n",
    "colors = ['k', 'r', 'b']\n",
    "styles = ['-', '--', ':']\n",
    "for curve, color, style in zip(curves, colors, styles):\n",
    "    plt.plot(x, curve, c=color, linestyle=style)\n",
    "plt.show()"
   ]
  },
  {
   "cell_type": "code",
   "execution_count": null,
   "id": "6c8641e1-24e4-414b-8405-a1ff1de9652c",
   "metadata": {},
   "outputs": [],
   "source": []
  }
 ],
 "metadata": {
  "kernelspec": {
   "display_name": "Python 3 (ipykernel)",
   "language": "python",
   "name": "python3"
  },
  "language_info": {
   "codemirror_mode": {
    "name": "ipython",
    "version": 3
   },
   "file_extension": ".py",
   "mimetype": "text/x-python",
   "name": "python",
   "nbconvert_exporter": "python",
   "pygments_lexer": "ipython3",
   "version": "3.10.6"
  }
 },
 "nbformat": 4,
 "nbformat_minor": 5
}
